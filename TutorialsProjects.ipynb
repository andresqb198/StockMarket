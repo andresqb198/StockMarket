{
 "cells": [
  {
   "cell_type": "markdown",
   "metadata": {
    "colab_type": "text",
    "id": "GZQK4H00qC55"
   },
   "source": [
    "# **TUTORIAL PT. 1**"
   ]
  },
  {
   "cell_type": "markdown",
   "metadata": {
    "colab_type": "text",
    "id": "ogHwPma1rR_p"
   },
   "source": [
    "Se instalan las librerías"
   ]
  },
  {
   "cell_type": "code",
   "execution_count": 1,
   "metadata": {
    "colab": {
     "base_uri": "https://localhost:8080/",
     "height": 555
    },
    "colab_type": "code",
    "executionInfo": {
     "elapsed": 17082,
     "status": "ok",
     "timestamp": 1565822961046,
     "user": {
      "displayName": "ANDRÉS QUINTERO BEDOYA",
      "photoUrl": "",
      "userId": "15072445933991782318"
     },
     "user_tz": 300
    },
    "id": "lJVjFjvko5bA",
    "outputId": "64ea5bb3-56a6-4786-9fde-acbd506b9c8d"
   },
   "outputs": [
    {
     "name": "stdout",
     "output_type": "stream",
     "text": [
      "Requirement already satisfied: pandas in c:\\users\\user\\anaconda3\\lib\\site-packages (0.24.2)\n",
      "Requirement already satisfied: numpy>=1.12.0 in c:\\users\\user\\anaconda3\\lib\\site-packages (from pandas) (1.16.4)\n",
      "Requirement already satisfied: python-dateutil>=2.5.0 in c:\\users\\user\\anaconda3\\lib\\site-packages (from pandas) (2.8.0)\n",
      "Requirement already satisfied: pytz>=2011k in c:\\users\\user\\anaconda3\\lib\\site-packages (from pandas) (2019.1)\n",
      "Requirement already satisfied: six>=1.5 in c:\\users\\user\\anaconda3\\lib\\site-packages (from python-dateutil>=2.5.0->pandas) (1.12.0)\n",
      "Requirement already satisfied: pandas-datareader in c:\\users\\user\\anaconda3\\lib\\site-packages (0.7.4)\n",
      "Requirement already satisfied: lxml in c:\\users\\user\\anaconda3\\lib\\site-packages (from pandas-datareader) (4.3.4)\n",
      "Requirement already satisfied: requests>=2.3.0 in c:\\users\\user\\anaconda3\\lib\\site-packages (from pandas-datareader) (2.22.0)\n",
      "Requirement already satisfied: wrapt in c:\\users\\user\\anaconda3\\lib\\site-packages (from pandas-datareader) (1.11.2)\n",
      "Requirement already satisfied: pandas>=0.19.2 in c:\\users\\user\\anaconda3\\lib\\site-packages (from pandas-datareader) (0.24.2)\n",
      "Requirement already satisfied: urllib3!=1.25.0,!=1.25.1,<1.26,>=1.21.1 in c:\\users\\user\\anaconda3\\lib\\site-packages (from requests>=2.3.0->pandas-datareader) (1.24.2)\n",
      "Requirement already satisfied: idna<2.9,>=2.5 in c:\\users\\user\\anaconda3\\lib\\site-packages (from requests>=2.3.0->pandas-datareader) (2.8)\n",
      "Requirement already satisfied: certifi>=2017.4.17 in c:\\users\\user\\anaconda3\\lib\\site-packages (from requests>=2.3.0->pandas-datareader) (2019.6.16)\n",
      "Requirement already satisfied: chardet<3.1.0,>=3.0.2 in c:\\users\\user\\anaconda3\\lib\\site-packages (from requests>=2.3.0->pandas-datareader) (3.0.4)\n",
      "Requirement already satisfied: pytz>=2011k in c:\\users\\user\\anaconda3\\lib\\site-packages (from pandas>=0.19.2->pandas-datareader) (2019.1)\n",
      "Requirement already satisfied: python-dateutil>=2.5.0 in c:\\users\\user\\anaconda3\\lib\\site-packages (from pandas>=0.19.2->pandas-datareader) (2.8.0)\n",
      "Requirement already satisfied: numpy>=1.12.0 in c:\\users\\user\\anaconda3\\lib\\site-packages (from pandas>=0.19.2->pandas-datareader) (1.16.4)\n",
      "Requirement already satisfied: six>=1.5 in c:\\users\\user\\anaconda3\\lib\\site-packages (from python-dateutil>=2.5.0->pandas>=0.19.2->pandas-datareader) (1.12.0)\n",
      "Requirement already satisfied: matplotlib in c:\\users\\user\\anaconda3\\lib\\site-packages (3.1.0)\n",
      "Requirement already satisfied: cycler>=0.10 in c:\\users\\user\\anaconda3\\lib\\site-packages (from matplotlib) (0.10.0)\n",
      "Requirement already satisfied: kiwisolver>=1.0.1 in c:\\users\\user\\anaconda3\\lib\\site-packages (from matplotlib) (1.1.0)\n",
      "Requirement already satisfied: pyparsing!=2.0.4,!=2.1.2,!=2.1.6,>=2.0.1 in c:\\users\\user\\anaconda3\\lib\\site-packages (from matplotlib) (2.4.0)\n",
      "Requirement already satisfied: python-dateutil>=2.1 in c:\\users\\user\\anaconda3\\lib\\site-packages (from matplotlib) (2.8.0)\n",
      "Requirement already satisfied: numpy>=1.11 in c:\\users\\user\\anaconda3\\lib\\site-packages (from matplotlib) (1.16.4)\n",
      "Requirement already satisfied: six in c:\\users\\user\\anaconda3\\lib\\site-packages (from cycler>=0.10->matplotlib) (1.12.0)\n",
      "Requirement already satisfied: setuptools in c:\\users\\user\\anaconda3\\lib\\site-packages (from kiwisolver>=1.0.1->matplotlib) (41.0.1)\n",
      "Requirement already satisfied: beautifulsoup4 in c:\\users\\user\\anaconda3\\lib\\site-packages (4.7.1)\n",
      "Requirement already satisfied: soupsieve>=1.2 in c:\\users\\user\\anaconda3\\lib\\site-packages (from beautifulsoup4) (1.8)\n",
      "Requirement already satisfied: scikit-learn in c:\\users\\user\\anaconda3\\lib\\site-packages (0.21.2)\n",
      "Requirement already satisfied: joblib>=0.11 in c:\\users\\user\\anaconda3\\lib\\site-packages (from scikit-learn) (0.13.2)\n",
      "Requirement already satisfied: numpy>=1.11.0 in c:\\users\\user\\anaconda3\\lib\\site-packages (from scikit-learn) (1.16.4)\n",
      "Requirement already satisfied: scipy>=0.17.0 in c:\\users\\user\\anaconda3\\lib\\site-packages (from scikit-learn) (1.2.1)\n"
     ]
    }
   ],
   "source": [
    "#!pip install pandas\n",
    "#!pip install pandas-datareader\n",
    "#!pip install matplotlib\n",
    "#!pip install beautifulsoup4\n",
    "#!pip install scikit-learn\n"
   ]
  },
  {
   "cell_type": "markdown",
   "metadata": {
    "colab_type": "text",
    "id": "5XO0CR3hraiR"
   },
   "source": [
    "Se importan las librerías"
   ]
  },
  {
   "cell_type": "code",
   "execution_count": 2,
   "metadata": {
    "colab": {},
    "colab_type": "code",
    "id": "HDvNlklkqA8C"
   },
   "outputs": [],
   "source": [
    "import datetime as dt\n",
    "import matplotlib.pyplot as plt\n",
    "from matplotlib import style\n",
    "import pandas as pd\n",
    "import pandas_datareader.data as web"
   ]
  },
  {
   "cell_type": "markdown",
   "metadata": {
    "colab_type": "text",
    "id": "we91KvvAtkA5"
   },
   "source": [
    "Se importan los datos"
   ]
  },
  {
   "cell_type": "code",
   "execution_count": 3,
   "metadata": {
    "colab": {
     "base_uri": "https://localhost:8080/",
     "height": 469
    },
    "colab_type": "code",
    "executionInfo": {
     "elapsed": 17850,
     "status": "ok",
     "timestamp": 1565822961826,
     "user": {
      "displayName": "ANDRÉS QUINTERO BEDOYA",
      "photoUrl": "",
      "userId": "15072445933991782318"
     },
     "user_tz": 300
    },
    "id": "u1sPc1YGsr3x",
    "outputId": "b839d8e4-73f7-4d25-9573-f614e6ef0404"
   },
   "outputs": [
    {
     "name": "stdout",
     "output_type": "stream",
     "text": [
      "HEAD\n",
      "                 High        Low       Open      Close    Volume  Adj Close\n",
      "Date                                                                       \n",
      "2010-06-29  25.000000  17.540001  19.000000  23.889999  18766300  23.889999\n",
      "2010-06-30  30.420000  23.299999  25.790001  23.830000  17187100  23.830000\n",
      "2010-07-01  25.920000  20.270000  25.000000  21.959999   8218800  21.959999\n",
      "2010-07-02  23.100000  18.709999  23.000000  19.200001   5139800  19.200001\n",
      "2010-07-06  20.000000  15.830000  20.000000  16.110001   6866900  16.110001\n",
      "2010-07-07  16.629999  14.980000  16.400000  15.800000   6921700  15.800000\n",
      "2010-07-08  17.520000  15.570000  16.139999  17.459999   7711400  17.459999\n",
      "2010-07-09  17.900000  16.549999  17.580000  17.400000   4050600  17.400000\n",
      "2010-07-12  18.070000  17.000000  17.950001  17.049999   2202500  17.049999\n",
      "2010-07-13  18.639999  16.900000  17.389999  18.139999   2680100  18.139999\n",
      "TAIL\n",
      "                  High         Low        Open       Close   Volume  \\\n",
      "Date                                                                  \n",
      "2016-12-16  202.589996  197.600006  198.080002  202.490005  3779800   \n",
      "2016-12-19  204.449997  199.839996  202.490005  202.729996  3488100   \n",
      "2016-12-20  209.000000  202.500000  203.050003  208.789993  4689100   \n",
      "2016-12-21  212.229996  207.410004  208.449997  207.699997  5207600   \n",
      "2016-12-22  209.990005  206.500000  208.220001  208.449997  3111100   \n",
      "2016-12-23  213.449997  207.710007  208.000000  213.339996  4662900   \n",
      "2016-12-27  222.250000  214.419998  214.880005  219.529999  5915700   \n",
      "2016-12-28  223.800003  217.199997  221.529999  219.740005  3782500   \n",
      "2016-12-29  219.199997  214.119995  218.559998  214.679993  4035900   \n",
      "2016-12-30  217.500000  211.679993  216.300003  213.690002  4642600   \n",
      "\n",
      "             Adj Close  \n",
      "Date                    \n",
      "2016-12-16  202.490005  \n",
      "2016-12-19  202.729996  \n",
      "2016-12-20  208.789993  \n",
      "2016-12-21  207.699997  \n",
      "2016-12-22  208.449997  \n",
      "2016-12-23  213.339996  \n",
      "2016-12-27  219.529999  \n",
      "2016-12-28  219.740005  \n",
      "2016-12-29  214.679993  \n",
      "2016-12-30  213.690002  \n"
     ]
    }
   ],
   "source": [
    "style.use('ggplot')\n",
    "\n",
    "start = dt.datetime(2000,1,1)\n",
    "end = dt.datetime(2016,12,31)\n",
    "\n",
    "df = web.DataReader('TSLA','yahoo', start,end)\n",
    "print('HEAD')\n",
    "print(df.head(10))\n",
    "print('TAIL')\n",
    "print(df.tail(10))"
   ]
  },
  {
   "cell_type": "code",
   "execution_count": 4,
   "metadata": {
    "colab": {},
    "colab_type": "code",
    "id": "Om_3B-B7tCbB"
   },
   "outputs": [],
   "source": [
    "#df.to_csv('Tsla.csv') convertir a csv\n",
    "#df = pd.read_csv('Tesla.csv', parse_dates = True, index_col = 0) leer un csv"
   ]
  },
  {
   "cell_type": "markdown",
   "metadata": {
    "colab_type": "text",
    "id": "HsJijORZ13v-"
   },
   "source": [
    "Visualización"
   ]
  },
  {
   "cell_type": "code",
   "execution_count": 5,
   "metadata": {
    "colab": {
     "base_uri": "https://localhost:8080/",
     "height": 398
    },
    "colab_type": "code",
    "executionInfo": {
     "elapsed": 18041,
     "status": "ok",
     "timestamp": 1565822962025,
     "user": {
      "displayName": "ANDRÉS QUINTERO BEDOYA",
      "photoUrl": "",
      "userId": "15072445933991782318"
     },
     "user_tz": 300
    },
    "id": "0N81nEHd1jAO",
    "outputId": "8c850580-a2c0-4020-bcc4-54358ed5a668"
   },
   "outputs": [
    {
     "name": "stdout",
     "output_type": "stream",
     "text": [
      "                 Open   High\n",
      "Date                        \n",
      "2010-06-29  19.000000  25.00\n",
      "2010-06-30  25.790001  30.42\n",
      "2010-07-01  25.000000  25.92\n",
      "2010-07-02  23.000000  23.10\n",
      "2010-07-06  20.000000  20.00\n"
     ]
    },
    {
     "data": {
      "image/png": "[encoded data removed]",
      "text/plain": [
       "<Figure size 432x288 with 1 Axes>"
      ]
     },
     "metadata": {},
     "output_type": "display_data"
    }
   ],
   "source": [
    "print(df[['Open','High']].head())\n",
    "df['Open'].plot()\n",
    "plt.show()"
   ]
  },
  {
   "cell_type": "code",
   "execution_count": 6,
   "metadata": {
    "colab": {},
    "colab_type": "code",
    "id": "VbkcvyhP3qf9"
   },
   "outputs": [],
   "source": [
    "df['100ma']=df['Adj Close'].rolling(window=10).mean()"
   ]
  }
 ],
 "metadata": {
  "colab": {
   "name": "StockTutorials.ipynb",
   "provenance": [],
   "version": "0.3.2"
  },
  "kernelspec": {
   "display_name": "Python 3",
   "language": "python",
   "name": "python3"
  },
  "language_info": {
   "codemirror_mode": {
    "name": "ipython",
    "version": 3
   },
   "file_extension": ".py",
   "mimetype": "text/x-python",
   "name": "python",
   "nbconvert_exporter": "python",
   "pygments_lexer": "ipython3",
   "version": "3.7.3"
  }
 },
 "nbformat": 4,
 "nbformat_minor": 1
}
