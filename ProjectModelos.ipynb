{
 "cells": [
  {
   "cell_type": "markdown",
   "metadata": {
    "colab_type": "text",
    "id": "GZQK4H00qC55"
   },
   "source": [
    "# **TUTORIAL PT. 1**"
   ]
  },
  {
   "cell_type": "markdown",
   "metadata": {
    "colab_type": "text",
    "id": "ogHwPma1rR_p"
   },
   "source": [
    "Se instalan las librerías"
   ]
  },
  {
   "cell_type": "code",
   "execution_count": null,
   "metadata": {
    "colab": {
     "base_uri": "https://localhost:8080/",
     "height": 555
    },
    "colab_type": "code",
    "executionInfo": {
     "elapsed": 17082,
     "status": "ok",
     "timestamp": 1565822961046,
     "user": {
      "displayName": "ANDRÉS QUINTERO BEDOYA",
      "photoUrl": "",
      "userId": "15072445933991782318"
     },
     "user_tz": 300
    },
    "id": "lJVjFjvko5bA",
    "outputId": "64ea5bb3-56a6-4786-9fde-acbd506b9c8d"
   },
   "outputs": [],
   "source": [
    "#!pip install pandas\n",
    "#!pip install pandas-datareader\n",
    "#!pip install matplotlib\n",
    "#!pip install beautifulsoup4\n",
    "#!pip install scikit-learn\n"
   ]
  },
  {
   "cell_type": "markdown",
   "metadata": {
    "colab_type": "text",
    "id": "5XO0CR3hraiR"
   },
   "source": [
    "Se importan las librerías"
   ]
  },
  {
   "cell_type": "code",
   "execution_count": null,
   "metadata": {
    "colab": {},
    "colab_type": "code",
    "id": "HDvNlklkqA8C"
   },
   "outputs": [],
   "source": [
    "import datetime as dt\n",
    "import matplotlib.pyplot as plt\n",
    "from matplotlib import style\n",
    "import pandas as pd\n",
    "import pandas_datareader.data as web\n",
    "import numpy as np\n",
    "from scipy import stats\n",
    "from sklearn import linear_model\n",
    "from sklearn.model_selection import cross_val_score"
   ]
  },
  {
   "cell_type": "markdown",
   "metadata": {
    "colab_type": "text",
    "id": "we91KvvAtkA5"
   },
   "source": [
    "Se importan los datos"
   ]
  },
  {
   "cell_type": "code",
   "execution_count": null,
   "metadata": {
    "colab": {
     "base_uri": "https://localhost:8080/",
     "height": 469
    },
    "colab_type": "code",
    "executionInfo": {
     "elapsed": 17850,
     "status": "ok",
     "timestamp": 1565822961826,
     "user": {
      "displayName": "ANDRÉS QUINTERO BEDOYA",
      "photoUrl": "",
      "userId": "15072445933991782318"
     },
     "user_tz": 300
    },
    "id": "u1sPc1YGsr3x",
    "outputId": "b839d8e4-73f7-4d25-9573-f614e6ef0404"
   },
   "outputs": [],
   "source": [
    "style.use('ggplot')\n",
    "\n",
    "start = dt.datetime(2000,1,1)\n",
    "end = dt.datetime(2019,8,8)\n",
    "\n",
    "s_and_p_500 = web.DataReader('^GSPC', 'yahoo', start, end)\n",
    "dow_30 = web.DataReader('^DJI', 'yahoo', start, end)\n",
    "nasdaq = web.DataReader('^IXIC', 'yahoo', start, end)\n",
    "print(nasdaq)"
   ]
  },
  {
   "cell_type": "code",
   "execution_count": null,
   "metadata": {
    "colab": {},
    "colab_type": "code",
    "id": "Om_3B-B7tCbB"
   },
   "outputs": [],
   "source": [
    "s_and_p_500.to_csv('s_and_p_500.csv') #convertir a csv\n",
    "dow_30.to_csv('dow_30.csv')\n",
    "nasdaq.to_csv('nasdaq.csv')\n",
    "#s_and_p_500 = pd.read_csv('s_and_p_500.csv', parse_dates = True, index_col = 0) #leer un csv"
   ]
  },
  {
   "cell_type": "markdown",
   "metadata": {
    "colab_type": "text",
    "id": "HsJijORZ13v-"
   },
   "source": [
    "Se eliminan las filas que no tengan datos"
   ]
  },
  {
   "cell_type": "code",
   "execution_count": null,
   "metadata": {
    "colab": {
     "base_uri": "https://localhost:8080/",
     "height": 398
    },
    "colab_type": "code",
    "executionInfo": {
     "elapsed": 18041,
     "status": "ok",
     "timestamp": 1565822962025,
     "user": {
      "displayName": "ANDRÉS QUINTERO BEDOYA",
      "photoUrl": "",
      "userId": "15072445933991782318"
     },
     "user_tz": 300
    },
    "id": "0N81nEHd1jAO",
    "outputId": "8c850580-a2c0-4020-bcc4-54358ed5a668"
   },
   "outputs": [],
   "source": [
    "s_and_p_500 = s_and_p_500.dropna()\n",
    "dow_30 = dow_30.dropna()\n",
    "nasdaq = nasdaq.dropna()"
   ]
  },
  {
   "cell_type": "markdown",
   "metadata": {},
   "source": [
    "Descripcion de los datos"
   ]
  },
  {
   "cell_type": "code",
   "execution_count": null,
   "metadata": {
    "colab": {},
    "colab_type": "code",
    "id": "VbkcvyhP3qf9"
   },
   "outputs": [],
   "source": [
    "print(s_and_p_500.describe)\n",
    "print(dow_30.describe)\n",
    "print(nasdaq.describe)"
   ]
  },
  {
   "cell_type": "markdown",
   "metadata": {},
   "source": [
    "Grafica de los datos"
   ]
  },
  {
   "cell_type": "code",
   "execution_count": null,
   "metadata": {},
   "outputs": [],
   "source": [
    "nasdaq['High'].plot()"
   ]
  },
  {
   "cell_type": "markdown",
   "metadata": {},
   "source": [
    "Limpieza de datos"
   ]
  },
  {
   "cell_type": "code",
   "execution_count": null,
   "metadata": {},
   "outputs": [],
   "source": [
    "nasdaq['High'] = np.log10(nasdaq['High'] + 1)\n",
    "nasdaq['Low'] = np.log10(nasdaq['Low'] + 1)\n",
    "nasdaq['Open'] = np.log10(nasdaq['Open'] + 1)\n",
    "nasdaq['Close'] = np.log10(nasdaq['Close'] + 1)\n",
    "nasdaq['Volume'] = np.log10(nasdaq['Volume'] + 1)\n",
    "nasdaq['Adj Close'] = np.log10(nasdaq['Adj Close'] + 1)"
   ]
  },
  {
   "cell_type": "code",
   "execution_count": null,
   "metadata": {},
   "outputs": [],
   "source": [
    "print(nasdaq)"
   ]
  },
  {
   "cell_type": "code",
   "execution_count": null,
   "metadata": {},
   "outputs": [],
   "source": [
    "s_and_p_500['High'] = np.log10(s_and_p_500['High'] + 1)\n",
    "s_and_p_500['Low'] = np.log10(s_and_p_500['Low'] + 1)\n",
    "s_and_p_500['Open'] = np.log10(s_and_p_500['Open'] + 1)\n",
    "s_and_p_500['Close'] = np.log10(s_and_p_500['Close'] + 1)\n",
    "s_and_p_500['Volume'] = np.log10(s_and_p_500['Volume'] + 1)\n",
    "s_and_p_500['Adj Close'] = np.log10(s_and_p_500['Adj Close'] + 1)\n",
    "print(s_and_p_500)"
   ]
  },
  {
   "cell_type": "code",
   "execution_count": null,
   "metadata": {},
   "outputs": [],
   "source": [
    "dow_30['High'] = np.log10(dow_30['High'] + 1)\n",
    "dow_30['Low'] = np.log10(dow_30['Low'] + 1)\n",
    "dow_30['Open'] = np.log10(dow_30['Open'] + 1)\n",
    "dow_30['Close'] = np.log10(dow_30['Close'] + 1)\n",
    "dow_30['Volume'] = np.log10(dow_30['Volume'] + 1)\n",
    "dow_30['Adj Close'] = np.log10(dow_30['Adj Close'] + 1)\n",
    "print(dow_30)"
   ]
  },
  {
   "cell_type": "code",
   "execution_count": null,
   "metadata": {},
   "outputs": [],
   "source": [
    "s_and_p_500.to_csv('CLEAN_s_and_p_500.csv') #convertir a csv\n",
    "dow_30.to_csv('CLEAN_dow_30.csv')\n",
    "nasdaq.to_csv('CLEAN_nasdaq.csv')"
   ]
  },
  {
   "cell_type": "code",
   "execution_count": null,
   "metadata": {},
   "outputs": [],
   "source": []
  }
 ],
 "metadata": {
  "colab": {
   "name": "StockTutorials.ipynb",
   "provenance": [],
   "version": "0.3.2"
  },
  "kernelspec": {
   "display_name": "Python 3",
   "language": "python",
   "name": "python3"
  },
  "language_info": {
   "codemirror_mode": {
    "name": "ipython",
    "version": 3
   },
   "file_extension": ".py",
   "mimetype": "text/x-python",
   "name": "python",
   "nbconvert_exporter": "python",
   "pygments_lexer": "ipython3",
   "version": "3.7.3"
  }
 },
 "nbformat": 4,
 "nbformat_minor": 1
}
